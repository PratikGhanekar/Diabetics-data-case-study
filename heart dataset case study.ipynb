{
 "cells": [
  {
   "cell_type": "code",
   "execution_count": null,
   "id": "f1405219",
   "metadata": {},
   "outputs": [],
   "source": [
    "Attribute Information\n",
    "Age: age of the patient [years]\n",
    "Sex: sex of the patient [M: Male, F: Female]\n",
    "ChestPainType: chest pain type [TA: Typical Angina, ATA: Atypical Angina, NAP: Non-Anginal Pain, ASY: Asymptomatic]\n",
    "RestingBP: resting blood pressure [mm Hg]\n",
    "Cholesterol: serum cholesterol [mm/dl]\n",
    "FastingBS: fasting blood sugar [1: if FastingBS > 120 mg/dl, 0: otherwise]\n",
    "RestingECG: resting electrocardiogram results [Normal: Normal, ST: having ST-T wave abnormality (T wave inversions and/or ST elevation or depression of > 0.05 mV), LVH: showing probable or definite left ventricular hypertrophy by Estes' criteria]\n",
    "MaxHR: maximum heart rate achieved [Numeric value between 60 and 202]\n",
    "ExerciseAngina: exercise-induced angina [Y: Yes, N: No]\n",
    "Oldpeak: oldpeak = ST [Numeric value measured in depression]\n",
    "ST_Slope: the slope of the peak exercise ST segment [Up: upsloping, Flat: flat, Down: downsloping]\n",
    "HeartDisease: output class [1: heart disease, 0: Normal]"
   ]
  },
  {
   "cell_type": "code",
   "execution_count": null,
   "id": "9c07cdb7",
   "metadata": {},
   "outputs": [],
   "source": [
    "#here target is output\n",
    "#to check patient has heart related problem or not\n",
    "#this is classification type dataset because output is 1 and 0"
   ]
  },
  {
   "cell_type": "code",
   "execution_count": 1,
   "id": "12c437b9",
   "metadata": {},
   "outputs": [
    {
     "data": {
      "text/plain": [
       "'/Users/pratikghanekar/Desktop/ML/case study'"
      ]
     },
     "execution_count": 1,
     "metadata": {},
     "output_type": "execute_result"
    }
   ],
   "source": [
    "import os \n",
    "os.getcwd()"
   ]
  },
  {
   "cell_type": "code",
   "execution_count": 2,
   "id": "959ba072",
   "metadata": {},
   "outputs": [],
   "source": [
    "import numpy as np\n",
    "import pandas as pd\n",
    "import matplotlib.pyplot as plt\n",
    "import seaborn as sb\n",
    "import warnings\n",
    "warnings.filterwarnings('ignore')"
   ]
  },
  {
   "cell_type": "code",
   "execution_count": 3,
   "id": "4fda03c5",
   "metadata": {},
   "outputs": [
    {
     "data": {
      "text/html": [
       "<div>\n",
       "<style scoped>\n",
       "    .dataframe tbody tr th:only-of-type {\n",
       "        vertical-align: middle;\n",
       "    }\n",
       "\n",
       "    .dataframe tbody tr th {\n",
       "        vertical-align: top;\n",
       "    }\n",
       "\n",
       "    .dataframe thead th {\n",
       "        text-align: right;\n",
       "    }\n",
       "</style>\n",
       "<table border=\"1\" class=\"dataframe\">\n",
       "  <thead>\n",
       "    <tr style=\"text-align: right;\">\n",
       "      <th></th>\n",
       "      <th>age</th>\n",
       "      <th>sex</th>\n",
       "      <th>cp</th>\n",
       "      <th>trestbps</th>\n",
       "      <th>chol</th>\n",
       "      <th>fbs</th>\n",
       "      <th>restecg</th>\n",
       "      <th>thalach</th>\n",
       "      <th>exang</th>\n",
       "      <th>oldpeak</th>\n",
       "      <th>slope</th>\n",
       "      <th>ca</th>\n",
       "      <th>thal</th>\n",
       "      <th>target</th>\n",
       "    </tr>\n",
       "  </thead>\n",
       "  <tbody>\n",
       "    <tr>\n",
       "      <th>0</th>\n",
       "      <td>63</td>\n",
       "      <td>1</td>\n",
       "      <td>3</td>\n",
       "      <td>145</td>\n",
       "      <td>233</td>\n",
       "      <td>1</td>\n",
       "      <td>0</td>\n",
       "      <td>150</td>\n",
       "      <td>0</td>\n",
       "      <td>2.3</td>\n",
       "      <td>0</td>\n",
       "      <td>0</td>\n",
       "      <td>1</td>\n",
       "      <td>1</td>\n",
       "    </tr>\n",
       "    <tr>\n",
       "      <th>1</th>\n",
       "      <td>37</td>\n",
       "      <td>1</td>\n",
       "      <td>2</td>\n",
       "      <td>130</td>\n",
       "      <td>250</td>\n",
       "      <td>0</td>\n",
       "      <td>1</td>\n",
       "      <td>187</td>\n",
       "      <td>0</td>\n",
       "      <td>3.5</td>\n",
       "      <td>0</td>\n",
       "      <td>0</td>\n",
       "      <td>2</td>\n",
       "      <td>1</td>\n",
       "    </tr>\n",
       "    <tr>\n",
       "      <th>2</th>\n",
       "      <td>41</td>\n",
       "      <td>0</td>\n",
       "      <td>1</td>\n",
       "      <td>130</td>\n",
       "      <td>204</td>\n",
       "      <td>0</td>\n",
       "      <td>0</td>\n",
       "      <td>172</td>\n",
       "      <td>0</td>\n",
       "      <td>1.4</td>\n",
       "      <td>2</td>\n",
       "      <td>0</td>\n",
       "      <td>2</td>\n",
       "      <td>1</td>\n",
       "    </tr>\n",
       "    <tr>\n",
       "      <th>3</th>\n",
       "      <td>56</td>\n",
       "      <td>1</td>\n",
       "      <td>1</td>\n",
       "      <td>120</td>\n",
       "      <td>236</td>\n",
       "      <td>0</td>\n",
       "      <td>1</td>\n",
       "      <td>178</td>\n",
       "      <td>0</td>\n",
       "      <td>0.8</td>\n",
       "      <td>2</td>\n",
       "      <td>0</td>\n",
       "      <td>2</td>\n",
       "      <td>1</td>\n",
       "    </tr>\n",
       "    <tr>\n",
       "      <th>4</th>\n",
       "      <td>57</td>\n",
       "      <td>0</td>\n",
       "      <td>0</td>\n",
       "      <td>120</td>\n",
       "      <td>354</td>\n",
       "      <td>0</td>\n",
       "      <td>1</td>\n",
       "      <td>163</td>\n",
       "      <td>1</td>\n",
       "      <td>0.6</td>\n",
       "      <td>2</td>\n",
       "      <td>0</td>\n",
       "      <td>2</td>\n",
       "      <td>1</td>\n",
       "    </tr>\n",
       "  </tbody>\n",
       "</table>\n",
       "</div>"
      ],
      "text/plain": [
       "   age  sex  cp  trestbps  chol  fbs  restecg  thalach  exang  oldpeak  slope  \\\n",
       "0   63    1   3       145   233    1        0      150      0      2.3      0   \n",
       "1   37    1   2       130   250    0        1      187      0      3.5      0   \n",
       "2   41    0   1       130   204    0        0      172      0      1.4      2   \n",
       "3   56    1   1       120   236    0        1      178      0      0.8      2   \n",
       "4   57    0   0       120   354    0        1      163      1      0.6      2   \n",
       "\n",
       "   ca  thal  target  \n",
       "0   0     1       1  \n",
       "1   0     2       1  \n",
       "2   0     2       1  \n",
       "3   0     2       1  \n",
       "4   0     2       1  "
      ]
     },
     "execution_count": 3,
     "metadata": {},
     "output_type": "execute_result"
    }
   ],
   "source": [
    "#to load csv file use pandas features read_csv\n",
    "df=pd.read_csv(\"heart.csv\")\n",
    "df.head()\n",
    "#here target is output\n",
    "#to check patient has heart related problem or not\n",
    "#this is classification type dataset because output is 1 and 0"
   ]
  },
  {
   "cell_type": "code",
   "execution_count": 4,
   "id": "96c36af5",
   "metadata": {},
   "outputs": [
    {
     "data": {
      "text/plain": [
       "(303, 14)"
      ]
     },
     "execution_count": 4,
     "metadata": {},
     "output_type": "execute_result"
    }
   ],
   "source": [
    "#check how many rows and col\n",
    "df.shape"
   ]
  },
  {
   "cell_type": "code",
   "execution_count": 5,
   "id": "f3a2747b",
   "metadata": {},
   "outputs": [
    {
     "data": {
      "text/plain": [
       "age         0\n",
       "sex         0\n",
       "cp          0\n",
       "trestbps    0\n",
       "chol        0\n",
       "fbs         0\n",
       "restecg     0\n",
       "thalach     0\n",
       "exang       0\n",
       "oldpeak     0\n",
       "slope       0\n",
       "ca          0\n",
       "thal        0\n",
       "target      0\n",
       "dtype: int64"
      ]
     },
     "execution_count": 5,
     "metadata": {},
     "output_type": "execute_result"
    }
   ],
   "source": [
    "#check null values\n",
    "df.isnull().sum()"
   ]
  },
  {
   "cell_type": "code",
   "execution_count": 6,
   "id": "4bdc37aa",
   "metadata": {},
   "outputs": [
    {
     "data": {
      "image/png": "[encoded data removed]",
      "text/plain": [
       "<Figure size 432x288 with 2 Axes>"
      ]
     },
     "metadata": {
      "needs_background": "light"
     },
     "output_type": "display_data"
    }
   ],
   "source": [
    "#check null values in viualise form\n",
    "sb.heatmap(df.isnull())\n",
    "plt.show()"
   ]
  },
  {
   "cell_type": "code",
   "execution_count": 7,
   "id": "35462cb4",
   "metadata": {},
   "outputs": [
    {
     "data": {
      "text/plain": [
       "age           int64\n",
       "sex           int64\n",
       "cp            int64\n",
       "trestbps      int64\n",
       "chol          int64\n",
       "fbs           int64\n",
       "restecg       int64\n",
       "thalach       int64\n",
       "exang         int64\n",
       "oldpeak     float64\n",
       "slope         int64\n",
       "ca            int64\n",
       "thal          int64\n",
       "target        int64\n",
       "dtype: object"
      ]
     },
     "execution_count": 7,
     "metadata": {},
     "output_type": "execute_result"
    }
   ],
   "source": [
    "#check data type\n",
    "df.dtypes"
   ]
  },
  {
   "cell_type": "code",
   "execution_count": 8,
   "id": "96cdb9d1",
   "metadata": {},
   "outputs": [
    {
     "data": {
      "text/plain": [
       "1"
      ]
     },
     "execution_count": 8,
     "metadata": {},
     "output_type": "execute_result"
    }
   ],
   "source": [
    "#check duplicates values\n",
    "df.duplicated().sum()\n",
    "#here is 1 duplicated values"
   ]
  },
  {
   "cell_type": "code",
   "execution_count": 9,
   "id": "9b8b41e2",
   "metadata": {},
   "outputs": [
    {
     "data": {
      "text/html": [
       "<div>\n",
       "<style scoped>\n",
       "    .dataframe tbody tr th:only-of-type {\n",
       "        vertical-align: middle;\n",
       "    }\n",
       "\n",
       "    .dataframe tbody tr th {\n",
       "        vertical-align: top;\n",
       "    }\n",
       "\n",
       "    .dataframe thead th {\n",
       "        text-align: right;\n",
       "    }\n",
       "</style>\n",
       "<table border=\"1\" class=\"dataframe\">\n",
       "  <thead>\n",
       "    <tr style=\"text-align: right;\">\n",
       "      <th></th>\n",
       "      <th>age</th>\n",
       "      <th>sex</th>\n",
       "      <th>cp</th>\n",
       "      <th>trestbps</th>\n",
       "      <th>chol</th>\n",
       "      <th>fbs</th>\n",
       "      <th>restecg</th>\n",
       "      <th>thalach</th>\n",
       "      <th>exang</th>\n",
       "      <th>oldpeak</th>\n",
       "      <th>slope</th>\n",
       "      <th>ca</th>\n",
       "      <th>thal</th>\n",
       "      <th>target</th>\n",
       "    </tr>\n",
       "  </thead>\n",
       "  <tbody>\n",
       "    <tr>\n",
       "      <th>164</th>\n",
       "      <td>38</td>\n",
       "      <td>1</td>\n",
       "      <td>2</td>\n",
       "      <td>138</td>\n",
       "      <td>175</td>\n",
       "      <td>0</td>\n",
       "      <td>1</td>\n",
       "      <td>173</td>\n",
       "      <td>0</td>\n",
       "      <td>0.0</td>\n",
       "      <td>2</td>\n",
       "      <td>4</td>\n",
       "      <td>2</td>\n",
       "      <td>1</td>\n",
       "    </tr>\n",
       "  </tbody>\n",
       "</table>\n",
       "</div>"
      ],
      "text/plain": [
       "     age  sex  cp  trestbps  chol  fbs  restecg  thalach  exang  oldpeak  \\\n",
       "164   38    1   2       138   175    0        1      173      0      0.0   \n",
       "\n",
       "     slope  ca  thal  target  \n",
       "164      2   4     2       1  "
      ]
     },
     "execution_count": 9,
     "metadata": {},
     "output_type": "execute_result"
    }
   ],
   "source": [
    "#check duplicated value\n",
    "df[df.duplicated()]"
   ]
  },
  {
   "cell_type": "code",
   "execution_count": 10,
   "id": "916da850",
   "metadata": {},
   "outputs": [],
   "source": [
    "#remove duplicated value from table\n",
    "df.drop_duplicates(inplace=True)"
   ]
  },
  {
   "cell_type": "code",
   "execution_count": 11,
   "id": "30217d17",
   "metadata": {},
   "outputs": [
    {
     "data": {
      "text/plain": [
       "0"
      ]
     },
     "execution_count": 11,
     "metadata": {},
     "output_type": "execute_result"
    }
   ],
   "source": [
    "#again check duplicated values\n",
    "df.duplicated().sum()"
   ]
  },
  {
   "cell_type": "code",
   "execution_count": 12,
   "id": "e36134af",
   "metadata": {},
   "outputs": [
    {
     "data": {
      "text/plain": [
       "(302, 14)"
      ]
     },
     "execution_count": 12,
     "metadata": {},
     "output_type": "execute_result"
    }
   ],
   "source": [
    "#check how many row and col\n",
    "df.shape"
   ]
  },
  {
   "cell_type": "code",
   "execution_count": 92,
   "id": "702fc115",
   "metadata": {},
   "outputs": [
    {
     "name": "stdout",
     "output_type": "stream",
     "text": [
      "1    164\n",
      "0    138\n",
      "Name: target, dtype: int64\n"
     ]
    },
    {
     "data": {
      "image/png": "[encoded data removed]",
      "text/plain": [
       "<Figure size 432x288 with 1 Axes>"
      ]
     },
     "metadata": {
      "needs_background": "light"
     },
     "output_type": "display_data"
    }
   ],
   "source": [
    "#check data bal or not\n",
    "f=df['target'].value_counts()\n",
    "print(f)\n",
    "sb.countplot(data=df,x='target')\n",
    "plt.yticks(f)\n",
    "plt.show()\n",
    "#here data is bal"
   ]
  },
  {
   "cell_type": "code",
   "execution_count": 13,
   "id": "6cf805bd",
   "metadata": {},
   "outputs": [],
   "source": [
    "#select input and output\n",
    "X=df.drop(\"target\",axis=1)#select input\n",
    "Y=df['target'] # select output"
   ]
  },
  {
   "cell_type": "code",
   "execution_count": 14,
   "id": "980f4e68",
   "metadata": {},
   "outputs": [
    {
     "data": {
      "text/html": [
       "<div>\n",
       "<style scoped>\n",
       "    .dataframe tbody tr th:only-of-type {\n",
       "        vertical-align: middle;\n",
       "    }\n",
       "\n",
       "    .dataframe tbody tr th {\n",
       "        vertical-align: top;\n",
       "    }\n",
       "\n",
       "    .dataframe thead th {\n",
       "        text-align: right;\n",
       "    }\n",
       "</style>\n",
       "<table border=\"1\" class=\"dataframe\">\n",
       "  <thead>\n",
       "    <tr style=\"text-align: right;\">\n",
       "      <th></th>\n",
       "      <th>age</th>\n",
       "      <th>sex</th>\n",
       "      <th>cp</th>\n",
       "      <th>trestbps</th>\n",
       "      <th>chol</th>\n",
       "      <th>fbs</th>\n",
       "      <th>restecg</th>\n",
       "      <th>thalach</th>\n",
       "      <th>exang</th>\n",
       "      <th>oldpeak</th>\n",
       "      <th>slope</th>\n",
       "      <th>ca</th>\n",
       "      <th>thal</th>\n",
       "    </tr>\n",
       "  </thead>\n",
       "  <tbody>\n",
       "    <tr>\n",
       "      <th>0</th>\n",
       "      <td>63</td>\n",
       "      <td>1</td>\n",
       "      <td>3</td>\n",
       "      <td>145</td>\n",
       "      <td>233</td>\n",
       "      <td>1</td>\n",
       "      <td>0</td>\n",
       "      <td>150</td>\n",
       "      <td>0</td>\n",
       "      <td>2.3</td>\n",
       "      <td>0</td>\n",
       "      <td>0</td>\n",
       "      <td>1</td>\n",
       "    </tr>\n",
       "    <tr>\n",
       "      <th>1</th>\n",
       "      <td>37</td>\n",
       "      <td>1</td>\n",
       "      <td>2</td>\n",
       "      <td>130</td>\n",
       "      <td>250</td>\n",
       "      <td>0</td>\n",
       "      <td>1</td>\n",
       "      <td>187</td>\n",
       "      <td>0</td>\n",
       "      <td>3.5</td>\n",
       "      <td>0</td>\n",
       "      <td>0</td>\n",
       "      <td>2</td>\n",
       "    </tr>\n",
       "    <tr>\n",
       "      <th>2</th>\n",
       "      <td>41</td>\n",
       "      <td>0</td>\n",
       "      <td>1</td>\n",
       "      <td>130</td>\n",
       "      <td>204</td>\n",
       "      <td>0</td>\n",
       "      <td>0</td>\n",
       "      <td>172</td>\n",
       "      <td>0</td>\n",
       "      <td>1.4</td>\n",
       "      <td>2</td>\n",
       "      <td>0</td>\n",
       "      <td>2</td>\n",
       "    </tr>\n",
       "    <tr>\n",
       "      <th>3</th>\n",
       "      <td>56</td>\n",
       "      <td>1</td>\n",
       "      <td>1</td>\n",
       "      <td>120</td>\n",
       "      <td>236</td>\n",
       "      <td>0</td>\n",
       "      <td>1</td>\n",
       "      <td>178</td>\n",
       "      <td>0</td>\n",
       "      <td>0.8</td>\n",
       "      <td>2</td>\n",
       "      <td>0</td>\n",
       "      <td>2</td>\n",
       "    </tr>\n",
       "    <tr>\n",
       "      <th>4</th>\n",
       "      <td>57</td>\n",
       "      <td>0</td>\n",
       "      <td>0</td>\n",
       "      <td>120</td>\n",
       "      <td>354</td>\n",
       "      <td>0</td>\n",
       "      <td>1</td>\n",
       "      <td>163</td>\n",
       "      <td>1</td>\n",
       "      <td>0.6</td>\n",
       "      <td>2</td>\n",
       "      <td>0</td>\n",
       "      <td>2</td>\n",
       "    </tr>\n",
       "  </tbody>\n",
       "</table>\n",
       "</div>"
      ],
      "text/plain": [
       "   age  sex  cp  trestbps  chol  fbs  restecg  thalach  exang  oldpeak  slope  \\\n",
       "0   63    1   3       145   233    1        0      150      0      2.3      0   \n",
       "1   37    1   2       130   250    0        1      187      0      3.5      0   \n",
       "2   41    0   1       130   204    0        0      172      0      1.4      2   \n",
       "3   56    1   1       120   236    0        1      178      0      0.8      2   \n",
       "4   57    0   0       120   354    0        1      163      1      0.6      2   \n",
       "\n",
       "   ca  thal  \n",
       "0   0     1  \n",
       "1   0     2  \n",
       "2   0     2  \n",
       "3   0     2  \n",
       "4   0     2  "
      ]
     },
     "execution_count": 14,
     "metadata": {},
     "output_type": "execute_result"
    }
   ],
   "source": [
    "X.head()"
   ]
  },
  {
   "cell_type": "code",
   "execution_count": 15,
   "id": "8b8fb2ca",
   "metadata": {},
   "outputs": [
    {
     "data": {
      "text/plain": [
       "0    1\n",
       "1    1\n",
       "2    1\n",
       "3    1\n",
       "4    1\n",
       "Name: target, dtype: int64"
      ]
     },
     "execution_count": 15,
     "metadata": {},
     "output_type": "execute_result"
    }
   ],
   "source": [
    "Y.head()"
   ]
  },
  {
   "cell_type": "code",
   "execution_count": 16,
   "id": "d20d84c5",
   "metadata": {},
   "outputs": [],
   "source": [
    "#apply train_test_split \n",
    "from sklearn.model_selection import train_test_split\n",
    "X_train,X_test,Y_train,Y_test=train_test_split(X,Y,test_size=0.3,\n",
    "                                              random_state=1)"
   ]
  },
  {
   "cell_type": "code",
   "execution_count": 17,
   "id": "4226fc52",
   "metadata": {},
   "outputs": [],
   "source": [
    "#apply scalling on input \n",
    "#apply standard scaler\n",
    "from sklearn.preprocessing import StandardScaler\n",
    "\n",
    "#create object of StandardScaler class\n",
    "ss=StandardScaler()\n",
    "#using fit method to train data\n",
    "X_train=ss.fit_transform(X_train,Y_train)#covert to numpy array\n",
    "X_test=ss.transform(X_test) #convert to numpy array"
   ]
  },
  {
   "cell_type": "code",
   "execution_count": 18,
   "id": "0cee3be3",
   "metadata": {},
   "outputs": [
    {
     "data": {
      "text/plain": [
       "array([[-1.06167727, -1.55023411,  1.02938967, ..., -0.69616283,\n",
       "         0.27995117, -0.51005185],\n",
       "       [ 0.43317242,  0.64506386, -0.92737808, ...,  0.95429062,\n",
       "        -0.72123014,  1.12056846],\n",
       "       [ 0.43317242, -1.55023411, -0.92737808, ..., -0.69616283,\n",
       "         1.28113248, -2.14067216],\n",
       "       ...,\n",
       "       [-2.66330193,  0.64506386,  0.05100579, ...,  0.95429062,\n",
       "        -0.72123014, -0.51005185],\n",
       "       [ 0.43317242,  0.64506386, -0.92737808, ...,  0.95429062,\n",
       "         1.28113248,  1.12056846],\n",
       "       [ 0.00607251,  0.64506386,  1.02938967, ...,  0.95429062,\n",
       "        -0.72123014,  1.12056846]])"
      ]
     },
     "execution_count": 18,
     "metadata": {},
     "output_type": "execute_result"
    }
   ],
   "source": [
    "X_train"
   ]
  },
  {
   "cell_type": "code",
   "execution_count": 19,
   "id": "c2f7b5a2",
   "metadata": {},
   "outputs": [],
   "source": [
    "#create fn\n",
    "def create_model(model):\n",
    "    \n",
    "    #train data with 70%\n",
    "    model.fit(X_train,Y_train)\n",
    "    \n",
    "    #test data with 30%\n",
    "    Y_pred=model.predict(X_test)\n",
    "    \n",
    "    #to genrate report\n",
    "    print(classification_report(Y_test,Y_pred))\n",
    "    print(confusion_matrix(Y_test,Y_pred))\n",
    "    \n",
    "    return model"
   ]
  },
  {
   "cell_type": "code",
   "execution_count": 20,
   "id": "f97194c1",
   "metadata": {},
   "outputs": [],
   "source": [
    "from sklearn.metrics import classification_report,confusion_matrix"
   ]
  },
  {
   "cell_type": "code",
   "execution_count": 21,
   "id": "f78acb00",
   "metadata": {},
   "outputs": [],
   "source": [
    "#give dataset to logistic regression\n",
    "from sklearn.linear_model import LogisticRegression"
   ]
  },
  {
   "cell_type": "code",
   "execution_count": 22,
   "id": "c21276cd",
   "metadata": {},
   "outputs": [],
   "source": [
    "#create object of LogisticRegression class\n",
    "lr=LogisticRegression()"
   ]
  },
  {
   "cell_type": "code",
   "execution_count": 23,
   "id": "c5f652d2",
   "metadata": {},
   "outputs": [
    {
     "name": "stdout",
     "output_type": "stream",
     "text": [
      "              precision    recall  f1-score   support\n",
      "\n",
      "           0       0.77      0.79      0.78        38\n",
      "           1       0.85      0.83      0.84        53\n",
      "\n",
      "    accuracy                           0.81        91\n",
      "   macro avg       0.81      0.81      0.81        91\n",
      "weighted avg       0.81      0.81      0.81        91\n",
      "\n",
      "[[30  8]\n",
      " [ 9 44]]\n"
     ]
    }
   ],
   "source": [
    "#call fn\n",
    "lr=create_model(lr)\n",
    "#here recall is 83% \n",
    "#which is good but it could be better"
   ]
  },
  {
   "cell_type": "code",
   "execution_count": 24,
   "id": "ed87c668",
   "metadata": {},
   "outputs": [],
   "source": [
    "#give dataset to DecisionTreeClassifier class\n",
    "from sklearn.tree import DecisionTreeClassifier #bydefault gini"
   ]
  },
  {
   "cell_type": "code",
   "execution_count": 25,
   "id": "85580d33",
   "metadata": {},
   "outputs": [],
   "source": [
    "#create object of DecisionTreeClassifier class\n",
    "dt=DecisionTreeClassifier(random_state=1)"
   ]
  },
  {
   "cell_type": "code",
   "execution_count": 26,
   "id": "220878ea",
   "metadata": {},
   "outputs": [
    {
     "name": "stdout",
     "output_type": "stream",
     "text": [
      "              precision    recall  f1-score   support\n",
      "\n",
      "           0       0.65      0.79      0.71        38\n",
      "           1       0.82      0.70      0.76        53\n",
      "\n",
      "    accuracy                           0.74        91\n",
      "   macro avg       0.74      0.74      0.73        91\n",
      "weighted avg       0.75      0.74      0.74        91\n",
      "\n",
      "[[30  8]\n",
      " [16 37]]\n"
     ]
    }
   ],
   "source": [
    "#call fn\n",
    "dt=create_model(dt)\n",
    "#here recall is 70%"
   ]
  },
  {
   "cell_type": "code",
   "execution_count": 27,
   "id": "150ce392",
   "metadata": {},
   "outputs": [
    {
     "data": {
      "text/html": [
       "<div>\n",
       "<style scoped>\n",
       "    .dataframe tbody tr th:only-of-type {\n",
       "        vertical-align: middle;\n",
       "    }\n",
       "\n",
       "    .dataframe tbody tr th {\n",
       "        vertical-align: top;\n",
       "    }\n",
       "\n",
       "    .dataframe thead th {\n",
       "        text-align: right;\n",
       "    }\n",
       "</style>\n",
       "<table border=\"1\" class=\"dataframe\">\n",
       "  <thead>\n",
       "    <tr style=\"text-align: right;\">\n",
       "      <th></th>\n",
       "      <th>input</th>\n",
       "      <th>IG</th>\n",
       "    </tr>\n",
       "  </thead>\n",
       "  <tbody>\n",
       "    <tr>\n",
       "      <th>0</th>\n",
       "      <td>cp</td>\n",
       "      <td>0.317338</td>\n",
       "    </tr>\n",
       "    <tr>\n",
       "      <th>1</th>\n",
       "      <td>chol</td>\n",
       "      <td>0.113529</td>\n",
       "    </tr>\n",
       "    <tr>\n",
       "      <th>2</th>\n",
       "      <td>ca</td>\n",
       "      <td>0.113295</td>\n",
       "    </tr>\n",
       "    <tr>\n",
       "      <th>3</th>\n",
       "      <td>thal</td>\n",
       "      <td>0.088533</td>\n",
       "    </tr>\n",
       "    <tr>\n",
       "      <th>4</th>\n",
       "      <td>age</td>\n",
       "      <td>0.085167</td>\n",
       "    </tr>\n",
       "    <tr>\n",
       "      <th>5</th>\n",
       "      <td>exang</td>\n",
       "      <td>0.081387</td>\n",
       "    </tr>\n",
       "    <tr>\n",
       "      <th>6</th>\n",
       "      <td>thalach</td>\n",
       "      <td>0.073287</td>\n",
       "    </tr>\n",
       "    <tr>\n",
       "      <th>7</th>\n",
       "      <td>oldpeak</td>\n",
       "      <td>0.061444</td>\n",
       "    </tr>\n",
       "    <tr>\n",
       "      <th>8</th>\n",
       "      <td>trestbps</td>\n",
       "      <td>0.045681</td>\n",
       "    </tr>\n",
       "    <tr>\n",
       "      <th>9</th>\n",
       "      <td>sex</td>\n",
       "      <td>0.020339</td>\n",
       "    </tr>\n",
       "    <tr>\n",
       "      <th>10</th>\n",
       "      <td>fbs</td>\n",
       "      <td>0.000000</td>\n",
       "    </tr>\n",
       "    <tr>\n",
       "      <th>11</th>\n",
       "      <td>restecg</td>\n",
       "      <td>0.000000</td>\n",
       "    </tr>\n",
       "    <tr>\n",
       "      <th>12</th>\n",
       "      <td>slope</td>\n",
       "      <td>0.000000</td>\n",
       "    </tr>\n",
       "  </tbody>\n",
       "</table>\n",
       "</div>"
      ],
      "text/plain": [
       "       input        IG\n",
       "0         cp  0.317338\n",
       "1       chol  0.113529\n",
       "2         ca  0.113295\n",
       "3       thal  0.088533\n",
       "4        age  0.085167\n",
       "5      exang  0.081387\n",
       "6    thalach  0.073287\n",
       "7    oldpeak  0.061444\n",
       "8   trestbps  0.045681\n",
       "9        sex  0.020339\n",
       "10       fbs  0.000000\n",
       "11   restecg  0.000000\n",
       "12     slope  0.000000"
      ]
     },
     "execution_count": 27,
     "metadata": {},
     "output_type": "execute_result"
    }
   ],
   "source": [
    "#check IG\n",
    "dict={\"input\":X.columns,\"IG\":dt.feature_importances_}\n",
    "#convert into Dataframe\n",
    "df1=pd.DataFrame(dict)\n",
    "#sorting\n",
    "df1.sort_values(\"IG\",ascending=False,ignore_index=True)"
   ]
  },
  {
   "cell_type": "raw",
   "id": "290e7133",
   "metadata": {},
   "source": [
    "#draw tree\n",
    "from sklearn import tree\n",
    "features=X.columns\n",
    "plt.figure(figsize=(70,70))\n",
    "_=tree.plot_tree(dt,feature_names=features,filled=True)\n",
    "plt.show()"
   ]
  },
  {
   "cell_type": "raw",
   "id": "fbc27f27",
   "metadata": {},
   "source": [
    "#apply pruning tech\n",
    "#1.max_depth\n",
    "for i in range(1,9):\n",
    "    #create object of DecisionTreeClassifier class\n",
    "    dt1=DecisionTreeClassifier(random_state=1,max_depth=i)\n",
    "    print(\"max depth \",i)\n",
    "    #Call fn\n",
    "    dt1=create_model(dt1)"
   ]
  },
  {
   "cell_type": "code",
   "execution_count": 28,
   "id": "3c69a0f7",
   "metadata": {},
   "outputs": [
    {
     "name": "stdout",
     "output_type": "stream",
     "text": [
      "              precision    recall  f1-score   support\n",
      "\n",
      "           0       0.69      0.76      0.72        38\n",
      "           1       0.82      0.75      0.78        53\n",
      "\n",
      "    accuracy                           0.76        91\n",
      "   macro avg       0.75      0.76      0.75        91\n",
      "weighted avg       0.76      0.76      0.76        91\n",
      "\n",
      "[[29  9]\n",
      " [13 40]]\n"
     ]
    }
   ],
   "source": [
    "#create object of DecisionTreeClassifier class\n",
    "dt1=DecisionTreeClassifier(random_state=1,max_depth=5)\n",
    "#Call fn\n",
    "dt1=create_model(dt1)\n",
    "#here recall is 75%"
   ]
  },
  {
   "cell_type": "raw",
   "id": "c764a582",
   "metadata": {},
   "source": [
    "#apply second pruning tech min sample leaf\n",
    "for i in range(45,101):\n",
    "    #create object of DecisionTreeClassifier class\n",
    "    dt2=DecisionTreeClassifier(random_state=1,min_samples_leaf=i)\n",
    "    print(\"min samples leaf \",i)\n",
    "    #call fn\n",
    "    dt2=create_model(dt2)"
   ]
  },
  {
   "cell_type": "code",
   "execution_count": 29,
   "id": "2e410cca",
   "metadata": {},
   "outputs": [
    {
     "name": "stdout",
     "output_type": "stream",
     "text": [
      "              precision    recall  f1-score   support\n",
      "\n",
      "           0       0.63      0.68      0.66        38\n",
      "           1       0.76      0.72      0.74        53\n",
      "\n",
      "    accuracy                           0.70        91\n",
      "   macro avg       0.70      0.70      0.70        91\n",
      "weighted avg       0.71      0.70      0.70        91\n",
      "\n",
      "[[26 12]\n",
      " [15 38]]\n"
     ]
    }
   ],
   "source": [
    "#create object of DecisionTreeClassifier class\n",
    "dt2=DecisionTreeClassifier(random_state=1,min_samples_leaf=45)\n",
    "#call fn\n",
    "dt2=create_model(dt2)\n",
    "#here recall is 72%"
   ]
  },
  {
   "cell_type": "code",
   "execution_count": 30,
   "id": "67cb5874",
   "metadata": {},
   "outputs": [
    {
     "data": {
      "text/html": [
       "<div>\n",
       "<style scoped>\n",
       "    .dataframe tbody tr th:only-of-type {\n",
       "        vertical-align: middle;\n",
       "    }\n",
       "\n",
       "    .dataframe tbody tr th {\n",
       "        vertical-align: top;\n",
       "    }\n",
       "\n",
       "    .dataframe thead th {\n",
       "        text-align: right;\n",
       "    }\n",
       "</style>\n",
       "<table border=\"1\" class=\"dataframe\">\n",
       "  <thead>\n",
       "    <tr style=\"text-align: right;\">\n",
       "      <th></th>\n",
       "      <th>input</th>\n",
       "      <th>IG</th>\n",
       "    </tr>\n",
       "  </thead>\n",
       "  <tbody>\n",
       "    <tr>\n",
       "      <th>0</th>\n",
       "      <td>cp</td>\n",
       "      <td>0.704874</td>\n",
       "    </tr>\n",
       "    <tr>\n",
       "      <th>1</th>\n",
       "      <td>ca</td>\n",
       "      <td>0.218659</td>\n",
       "    </tr>\n",
       "    <tr>\n",
       "      <th>2</th>\n",
       "      <td>age</td>\n",
       "      <td>0.076467</td>\n",
       "    </tr>\n",
       "    <tr>\n",
       "      <th>3</th>\n",
       "      <td>sex</td>\n",
       "      <td>0.000000</td>\n",
       "    </tr>\n",
       "    <tr>\n",
       "      <th>4</th>\n",
       "      <td>trestbps</td>\n",
       "      <td>0.000000</td>\n",
       "    </tr>\n",
       "    <tr>\n",
       "      <th>5</th>\n",
       "      <td>chol</td>\n",
       "      <td>0.000000</td>\n",
       "    </tr>\n",
       "    <tr>\n",
       "      <th>6</th>\n",
       "      <td>fbs</td>\n",
       "      <td>0.000000</td>\n",
       "    </tr>\n",
       "    <tr>\n",
       "      <th>7</th>\n",
       "      <td>restecg</td>\n",
       "      <td>0.000000</td>\n",
       "    </tr>\n",
       "    <tr>\n",
       "      <th>8</th>\n",
       "      <td>thalach</td>\n",
       "      <td>0.000000</td>\n",
       "    </tr>\n",
       "    <tr>\n",
       "      <th>9</th>\n",
       "      <td>exang</td>\n",
       "      <td>0.000000</td>\n",
       "    </tr>\n",
       "    <tr>\n",
       "      <th>10</th>\n",
       "      <td>oldpeak</td>\n",
       "      <td>0.000000</td>\n",
       "    </tr>\n",
       "    <tr>\n",
       "      <th>11</th>\n",
       "      <td>slope</td>\n",
       "      <td>0.000000</td>\n",
       "    </tr>\n",
       "    <tr>\n",
       "      <th>12</th>\n",
       "      <td>thal</td>\n",
       "      <td>0.000000</td>\n",
       "    </tr>\n",
       "  </tbody>\n",
       "</table>\n",
       "</div>"
      ],
      "text/plain": [
       "       input        IG\n",
       "0         cp  0.704874\n",
       "1         ca  0.218659\n",
       "2        age  0.076467\n",
       "3        sex  0.000000\n",
       "4   trestbps  0.000000\n",
       "5       chol  0.000000\n",
       "6        fbs  0.000000\n",
       "7    restecg  0.000000\n",
       "8    thalach  0.000000\n",
       "9      exang  0.000000\n",
       "10   oldpeak  0.000000\n",
       "11     slope  0.000000\n",
       "12      thal  0.000000"
      ]
     },
     "execution_count": 30,
     "metadata": {},
     "output_type": "execute_result"
    }
   ],
   "source": [
    "#check IG\n",
    "dict={\"input\":X.columns,\"IG\":dt2.feature_importances_}\n",
    "#convert to DataFrame\n",
    "df2=pd.DataFrame(dict)\n",
    "#sorting\n",
    "df2.sort_values(\"IG\",ascending=False,ignore_index=True)\n",
    "#here CP,CA,AGE has more IG"
   ]
  },
  {
   "cell_type": "raw",
   "id": "f5fba6f7",
   "metadata": {},
   "source": [
    "#draw tree\n",
    "from sklearn import tree\n",
    "features=X.columns\n",
    "plt.figure(figsize=(70,70))\n",
    "_=tree.plot_tree(dt2,feature_names=features,filled=True)\n",
    "plt.show()"
   ]
  },
  {
   "cell_type": "code",
   "execution_count": 32,
   "id": "6a4fd854",
   "metadata": {},
   "outputs": [],
   "source": [
    "#give data to decisionTree entropy method\n",
    "from sklearn.tree import DecisionTreeClassifier"
   ]
  },
  {
   "cell_type": "code",
   "execution_count": 33,
   "id": "97689184",
   "metadata": {},
   "outputs": [],
   "source": [
    "#create object of DecisionTreeClassifier class\n",
    "dt_entropy=DecisionTreeClassifier(random_state=1,criterion='entropy')"
   ]
  },
  {
   "cell_type": "code",
   "execution_count": 34,
   "id": "f0022667",
   "metadata": {},
   "outputs": [
    {
     "name": "stdout",
     "output_type": "stream",
     "text": [
      "              precision    recall  f1-score   support\n",
      "\n",
      "           0       0.64      0.74      0.68        38\n",
      "           1       0.79      0.70      0.74        53\n",
      "\n",
      "    accuracy                           0.71        91\n",
      "   macro avg       0.71      0.72      0.71        91\n",
      "weighted avg       0.72      0.71      0.72        91\n",
      "\n",
      "[[28 10]\n",
      " [16 37]]\n"
     ]
    }
   ],
   "source": [
    "#call fn\n",
    "dt_entropy=create_model(dt_entropy)\n",
    "#here recall is 70%"
   ]
  },
  {
   "cell_type": "code",
   "execution_count": 35,
   "id": "b83c8c2d",
   "metadata": {},
   "outputs": [
    {
     "data": {
      "text/html": [
       "<div>\n",
       "<style scoped>\n",
       "    .dataframe tbody tr th:only-of-type {\n",
       "        vertical-align: middle;\n",
       "    }\n",
       "\n",
       "    .dataframe tbody tr th {\n",
       "        vertical-align: top;\n",
       "    }\n",
       "\n",
       "    .dataframe thead th {\n",
       "        text-align: right;\n",
       "    }\n",
       "</style>\n",
       "<table border=\"1\" class=\"dataframe\">\n",
       "  <thead>\n",
       "    <tr style=\"text-align: right;\">\n",
       "      <th></th>\n",
       "      <th>input</th>\n",
       "      <th>IG</th>\n",
       "    </tr>\n",
       "  </thead>\n",
       "  <tbody>\n",
       "    <tr>\n",
       "      <th>0</th>\n",
       "      <td>cp</td>\n",
       "      <td>0.243182</td>\n",
       "    </tr>\n",
       "    <tr>\n",
       "      <th>1</th>\n",
       "      <td>ca</td>\n",
       "      <td>0.129411</td>\n",
       "    </tr>\n",
       "    <tr>\n",
       "      <th>2</th>\n",
       "      <td>age</td>\n",
       "      <td>0.108986</td>\n",
       "    </tr>\n",
       "    <tr>\n",
       "      <th>3</th>\n",
       "      <td>thal</td>\n",
       "      <td>0.097910</td>\n",
       "    </tr>\n",
       "    <tr>\n",
       "      <th>4</th>\n",
       "      <td>trestbps</td>\n",
       "      <td>0.096058</td>\n",
       "    </tr>\n",
       "    <tr>\n",
       "      <th>5</th>\n",
       "      <td>thalach</td>\n",
       "      <td>0.089420</td>\n",
       "    </tr>\n",
       "    <tr>\n",
       "      <th>6</th>\n",
       "      <td>chol</td>\n",
       "      <td>0.083485</td>\n",
       "    </tr>\n",
       "    <tr>\n",
       "      <th>7</th>\n",
       "      <td>exang</td>\n",
       "      <td>0.077822</td>\n",
       "    </tr>\n",
       "    <tr>\n",
       "      <th>8</th>\n",
       "      <td>oldpeak</td>\n",
       "      <td>0.045352</td>\n",
       "    </tr>\n",
       "    <tr>\n",
       "      <th>9</th>\n",
       "      <td>sex</td>\n",
       "      <td>0.028375</td>\n",
       "    </tr>\n",
       "    <tr>\n",
       "      <th>10</th>\n",
       "      <td>fbs</td>\n",
       "      <td>0.000000</td>\n",
       "    </tr>\n",
       "    <tr>\n",
       "      <th>11</th>\n",
       "      <td>restecg</td>\n",
       "      <td>0.000000</td>\n",
       "    </tr>\n",
       "    <tr>\n",
       "      <th>12</th>\n",
       "      <td>slope</td>\n",
       "      <td>0.000000</td>\n",
       "    </tr>\n",
       "  </tbody>\n",
       "</table>\n",
       "</div>"
      ],
      "text/plain": [
       "       input        IG\n",
       "0         cp  0.243182\n",
       "1         ca  0.129411\n",
       "2        age  0.108986\n",
       "3       thal  0.097910\n",
       "4   trestbps  0.096058\n",
       "5    thalach  0.089420\n",
       "6       chol  0.083485\n",
       "7      exang  0.077822\n",
       "8    oldpeak  0.045352\n",
       "9        sex  0.028375\n",
       "10       fbs  0.000000\n",
       "11   restecg  0.000000\n",
       "12     slope  0.000000"
      ]
     },
     "execution_count": 35,
     "metadata": {},
     "output_type": "execute_result"
    }
   ],
   "source": [
    "#check IG of input col\n",
    "dict={\"input\":X.columns,\"IG\":dt_entropy.feature_importances_}\n",
    "#convert to dataframe\n",
    "df3=pd.DataFrame(dict)\n",
    "#sorting\n",
    "df3.sort_values(\"IG\",ascending=False,ignore_index=True)"
   ]
  },
  {
   "cell_type": "raw",
   "id": "e649e294",
   "metadata": {},
   "source": [
    "#draw tree\n",
    "from sklearn import tree\n",
    "features=X.columns\n",
    "plt.figure(figsize=(70,70))\n",
    "_=tree.plot_tree(dt_entropy,feature_names=features,filled=True)\n",
    "plt.show()"
   ]
  },
  {
   "cell_type": "raw",
   "id": "cfb13d11",
   "metadata": {},
   "source": [
    "#apply pruning tech\n",
    "#1:max depth\n",
    "for i in range (1,9):\n",
    "    #create object of DecisionTreeClassifier class\n",
    "    dt_entropy1=DecisionTreeClassifier(random_state=1,max_depth=i,criterion='entropy')\n",
    "    print(\"max depth\",i)\n",
    "    #call fn\n",
    "    dt_entropy1=create_model(dt_entropy1)\n"
   ]
  },
  {
   "cell_type": "code",
   "execution_count": 36,
   "id": "f896eb5c",
   "metadata": {},
   "outputs": [
    {
     "name": "stdout",
     "output_type": "stream",
     "text": [
      "              precision    recall  f1-score   support\n",
      "\n",
      "           0       0.68      0.74      0.71        38\n",
      "           1       0.80      0.75      0.78        53\n",
      "\n",
      "    accuracy                           0.75        91\n",
      "   macro avg       0.74      0.75      0.74        91\n",
      "weighted avg       0.75      0.75      0.75        91\n",
      "\n",
      "[[28 10]\n",
      " [13 40]]\n"
     ]
    }
   ],
   "source": [
    "#create object of DecisionTreeClassifier class\n",
    "dt_entropy1=DecisionTreeClassifier(random_state=1,max_depth=6,criterion='entropy')\n",
    "#call fn\n",
    "dt_entropy1=create_model(dt_entropy1)\n",
    "#here recall is 75%"
   ]
  },
  {
   "cell_type": "code",
   "execution_count": 44,
   "id": "b4185eff",
   "metadata": {},
   "outputs": [
    {
     "data": {
      "text/html": [
       "<div>\n",
       "<style scoped>\n",
       "    .dataframe tbody tr th:only-of-type {\n",
       "        vertical-align: middle;\n",
       "    }\n",
       "\n",
       "    .dataframe tbody tr th {\n",
       "        vertical-align: top;\n",
       "    }\n",
       "\n",
       "    .dataframe thead th {\n",
       "        text-align: right;\n",
       "    }\n",
       "</style>\n",
       "<table border=\"1\" class=\"dataframe\">\n",
       "  <thead>\n",
       "    <tr style=\"text-align: right;\">\n",
       "      <th></th>\n",
       "      <th>input</th>\n",
       "      <th>IG</th>\n",
       "    </tr>\n",
       "  </thead>\n",
       "  <tbody>\n",
       "    <tr>\n",
       "      <th>0</th>\n",
       "      <td>cp</td>\n",
       "      <td>0.261707</td>\n",
       "    </tr>\n",
       "    <tr>\n",
       "      <th>1</th>\n",
       "      <td>ca</td>\n",
       "      <td>0.139269</td>\n",
       "    </tr>\n",
       "    <tr>\n",
       "      <th>2</th>\n",
       "      <td>age</td>\n",
       "      <td>0.112116</td>\n",
       "    </tr>\n",
       "    <tr>\n",
       "      <th>3</th>\n",
       "      <td>trestbps</td>\n",
       "      <td>0.101919</td>\n",
       "    </tr>\n",
       "    <tr>\n",
       "      <th>4</th>\n",
       "      <td>thalach</td>\n",
       "      <td>0.096232</td>\n",
       "    </tr>\n",
       "    <tr>\n",
       "      <th>5</th>\n",
       "      <td>thal</td>\n",
       "      <td>0.084927</td>\n",
       "    </tr>\n",
       "    <tr>\n",
       "      <th>6</th>\n",
       "      <td>exang</td>\n",
       "      <td>0.069672</td>\n",
       "    </tr>\n",
       "    <tr>\n",
       "      <th>7</th>\n",
       "      <td>chol</td>\n",
       "      <td>0.065036</td>\n",
       "    </tr>\n",
       "    <tr>\n",
       "      <th>8</th>\n",
       "      <td>oldpeak</td>\n",
       "      <td>0.038586</td>\n",
       "    </tr>\n",
       "    <tr>\n",
       "      <th>9</th>\n",
       "      <td>sex</td>\n",
       "      <td>0.030536</td>\n",
       "    </tr>\n",
       "    <tr>\n",
       "      <th>10</th>\n",
       "      <td>fbs</td>\n",
       "      <td>0.000000</td>\n",
       "    </tr>\n",
       "    <tr>\n",
       "      <th>11</th>\n",
       "      <td>restecg</td>\n",
       "      <td>0.000000</td>\n",
       "    </tr>\n",
       "    <tr>\n",
       "      <th>12</th>\n",
       "      <td>slope</td>\n",
       "      <td>0.000000</td>\n",
       "    </tr>\n",
       "  </tbody>\n",
       "</table>\n",
       "</div>"
      ],
      "text/plain": [
       "       input        IG\n",
       "0         cp  0.261707\n",
       "1         ca  0.139269\n",
       "2        age  0.112116\n",
       "3   trestbps  0.101919\n",
       "4    thalach  0.096232\n",
       "5       thal  0.084927\n",
       "6      exang  0.069672\n",
       "7       chol  0.065036\n",
       "8    oldpeak  0.038586\n",
       "9        sex  0.030536\n",
       "10       fbs  0.000000\n",
       "11   restecg  0.000000\n",
       "12     slope  0.000000"
      ]
     },
     "execution_count": 44,
     "metadata": {},
     "output_type": "execute_result"
    }
   ],
   "source": [
    "#check IG\n",
    "dict={\"input\":X.columns,\"IG\":dt_entropy1.feature_importances_}\n",
    "#convert to DataFrame\n",
    "df3=pd.DataFrame(dict)\n",
    "#sorting\n",
    "df3.sort_values(\"IG\",ascending=False,ignore_index=True)"
   ]
  },
  {
   "cell_type": "raw",
   "id": "d04b48d4",
   "metadata": {},
   "source": [
    "#apply second pruning tech\n",
    "#min samples leaf\n",
    "for i in range(45,101):\n",
    "    #create object of DT \n",
    "    dt_entropy2=DecisonTreeClassifier(random_state=1,min_samples_leaf=i,criterion='entropy')\n",
    "    print(\"min sample leaf \",i)\n",
    "    #call fn\n",
    "    dt_entropy2=create_model(dt_entropy2)"
   ]
  },
  {
   "cell_type": "code",
   "execution_count": 43,
   "id": "d297ea1b",
   "metadata": {},
   "outputs": [
    {
     "name": "stdout",
     "output_type": "stream",
     "text": [
      "              precision    recall  f1-score   support\n",
      "\n",
      "           0       0.63      0.68      0.66        38\n",
      "           1       0.76      0.72      0.74        53\n",
      "\n",
      "    accuracy                           0.70        91\n",
      "   macro avg       0.70      0.70      0.70        91\n",
      "weighted avg       0.71      0.70      0.70        91\n",
      "\n",
      "[[26 12]\n",
      " [15 38]]\n"
     ]
    }
   ],
   "source": [
    "#crate object of DecisionTreeClassifier\n",
    "dt2_entropy=DecisionTreeClassifier(random_state=1,criterion='entropy',min_samples_leaf=45)\n",
    "#call fn\n",
    "dt2_entropy=create_model(dt2_entropy)\n",
    "#here recall is 72%"
   ]
  },
  {
   "cell_type": "code",
   "execution_count": 45,
   "id": "8d2f7ad7",
   "metadata": {},
   "outputs": [
    {
     "data": {
      "text/html": [
       "<div>\n",
       "<style scoped>\n",
       "    .dataframe tbody tr th:only-of-type {\n",
       "        vertical-align: middle;\n",
       "    }\n",
       "\n",
       "    .dataframe tbody tr th {\n",
       "        vertical-align: top;\n",
       "    }\n",
       "\n",
       "    .dataframe thead th {\n",
       "        text-align: right;\n",
       "    }\n",
       "</style>\n",
       "<table border=\"1\" class=\"dataframe\">\n",
       "  <thead>\n",
       "    <tr style=\"text-align: right;\">\n",
       "      <th></th>\n",
       "      <th>input</th>\n",
       "      <th>IG</th>\n",
       "    </tr>\n",
       "  </thead>\n",
       "  <tbody>\n",
       "    <tr>\n",
       "      <th>0</th>\n",
       "      <td>cp</td>\n",
       "      <td>0.623586</td>\n",
       "    </tr>\n",
       "    <tr>\n",
       "      <th>1</th>\n",
       "      <td>ca</td>\n",
       "      <td>0.277669</td>\n",
       "    </tr>\n",
       "    <tr>\n",
       "      <th>2</th>\n",
       "      <td>age</td>\n",
       "      <td>0.098745</td>\n",
       "    </tr>\n",
       "    <tr>\n",
       "      <th>3</th>\n",
       "      <td>sex</td>\n",
       "      <td>0.000000</td>\n",
       "    </tr>\n",
       "    <tr>\n",
       "      <th>4</th>\n",
       "      <td>trestbps</td>\n",
       "      <td>0.000000</td>\n",
       "    </tr>\n",
       "    <tr>\n",
       "      <th>5</th>\n",
       "      <td>chol</td>\n",
       "      <td>0.000000</td>\n",
       "    </tr>\n",
       "    <tr>\n",
       "      <th>6</th>\n",
       "      <td>fbs</td>\n",
       "      <td>0.000000</td>\n",
       "    </tr>\n",
       "    <tr>\n",
       "      <th>7</th>\n",
       "      <td>restecg</td>\n",
       "      <td>0.000000</td>\n",
       "    </tr>\n",
       "    <tr>\n",
       "      <th>8</th>\n",
       "      <td>thalach</td>\n",
       "      <td>0.000000</td>\n",
       "    </tr>\n",
       "    <tr>\n",
       "      <th>9</th>\n",
       "      <td>exang</td>\n",
       "      <td>0.000000</td>\n",
       "    </tr>\n",
       "    <tr>\n",
       "      <th>10</th>\n",
       "      <td>oldpeak</td>\n",
       "      <td>0.000000</td>\n",
       "    </tr>\n",
       "    <tr>\n",
       "      <th>11</th>\n",
       "      <td>slope</td>\n",
       "      <td>0.000000</td>\n",
       "    </tr>\n",
       "    <tr>\n",
       "      <th>12</th>\n",
       "      <td>thal</td>\n",
       "      <td>0.000000</td>\n",
       "    </tr>\n",
       "  </tbody>\n",
       "</table>\n",
       "</div>"
      ],
      "text/plain": [
       "       input        IG\n",
       "0         cp  0.623586\n",
       "1         ca  0.277669\n",
       "2        age  0.098745\n",
       "3        sex  0.000000\n",
       "4   trestbps  0.000000\n",
       "5       chol  0.000000\n",
       "6        fbs  0.000000\n",
       "7    restecg  0.000000\n",
       "8    thalach  0.000000\n",
       "9      exang  0.000000\n",
       "10   oldpeak  0.000000\n",
       "11     slope  0.000000\n",
       "12      thal  0.000000"
      ]
     },
     "execution_count": 45,
     "metadata": {},
     "output_type": "execute_result"
    }
   ],
   "source": [
    "#check IG\n",
    "dict={\"input\":X.columns,\"IG\":dt2_entropy.feature_importances_}\n",
    "#convert to DataFrame\n",
    "df3=pd.DataFrame(dict)\n",
    "#sorting\n",
    "df3.sort_values(\"IG\",ascending=False,ignore_index=True)"
   ]
  },
  {
   "cell_type": "code",
   "execution_count": 48,
   "id": "936df52b",
   "metadata": {},
   "outputs": [],
   "source": [
    "#give dataset to RandomForestTree ensemble tech\n",
    "from sklearn.ensemble import RandomForestClassifier"
   ]
  },
  {
   "cell_type": "raw",
   "id": "ee7575fe",
   "metadata": {},
   "source": [
    "#create object of RandomForestClassifier\n",
    "#here n_estimators means take how many no. of decisiontree\n",
    "for i in range (10,101):\n",
    "    #create object of RandomForestClassifier class\n",
    "    rfc=RandomForestClassifier(random_state=1,n_estimators=i)\n",
    "    print(\"no of decision tree\",i)\n",
    "    #call fn\n",
    "    rfc=create_model(rfc)"
   ]
  },
  {
   "cell_type": "code",
   "execution_count": 52,
   "id": "6a8b6b10",
   "metadata": {},
   "outputs": [
    {
     "name": "stdout",
     "output_type": "stream",
     "text": [
      "              precision    recall  f1-score   support\n",
      "\n",
      "           0       0.70      0.74      0.72        38\n",
      "           1       0.80      0.77      0.79        53\n",
      "\n",
      "    accuracy                           0.76        91\n",
      "   macro avg       0.75      0.76      0.75        91\n",
      "weighted avg       0.76      0.76      0.76        91\n",
      "\n",
      "[[28 10]\n",
      " [12 41]]\n"
     ]
    }
   ],
   "source": [
    "#create object of RandomForestClassifier class\n",
    "rfc=RandomForestClassifier(random_state=1,n_estimators=25)\n",
    "#call fn\n",
    "rfc=create_model(rfc)\n",
    "#here recall is 77%"
   ]
  },
  {
   "cell_type": "code",
   "execution_count": 53,
   "id": "fb85bb97",
   "metadata": {},
   "outputs": [
    {
     "data": {
      "text/html": [
       "<div>\n",
       "<style scoped>\n",
       "    .dataframe tbody tr th:only-of-type {\n",
       "        vertical-align: middle;\n",
       "    }\n",
       "\n",
       "    .dataframe tbody tr th {\n",
       "        vertical-align: top;\n",
       "    }\n",
       "\n",
       "    .dataframe thead th {\n",
       "        text-align: right;\n",
       "    }\n",
       "</style>\n",
       "<table border=\"1\" class=\"dataframe\">\n",
       "  <thead>\n",
       "    <tr style=\"text-align: right;\">\n",
       "      <th></th>\n",
       "      <th>input</th>\n",
       "      <th>IG</th>\n",
       "    </tr>\n",
       "  </thead>\n",
       "  <tbody>\n",
       "    <tr>\n",
       "      <th>0</th>\n",
       "      <td>cp</td>\n",
       "      <td>0.190503</td>\n",
       "    </tr>\n",
       "    <tr>\n",
       "      <th>1</th>\n",
       "      <td>thalach</td>\n",
       "      <td>0.155793</td>\n",
       "    </tr>\n",
       "    <tr>\n",
       "      <th>2</th>\n",
       "      <td>thal</td>\n",
       "      <td>0.104839</td>\n",
       "    </tr>\n",
       "    <tr>\n",
       "      <th>3</th>\n",
       "      <td>oldpeak</td>\n",
       "      <td>0.092591</td>\n",
       "    </tr>\n",
       "    <tr>\n",
       "      <th>4</th>\n",
       "      <td>ca</td>\n",
       "      <td>0.076090</td>\n",
       "    </tr>\n",
       "    <tr>\n",
       "      <th>5</th>\n",
       "      <td>age</td>\n",
       "      <td>0.071090</td>\n",
       "    </tr>\n",
       "    <tr>\n",
       "      <th>6</th>\n",
       "      <td>trestbps</td>\n",
       "      <td>0.067548</td>\n",
       "    </tr>\n",
       "    <tr>\n",
       "      <th>7</th>\n",
       "      <td>slope</td>\n",
       "      <td>0.062051</td>\n",
       "    </tr>\n",
       "    <tr>\n",
       "      <th>8</th>\n",
       "      <td>chol</td>\n",
       "      <td>0.058885</td>\n",
       "    </tr>\n",
       "    <tr>\n",
       "      <th>9</th>\n",
       "      <td>exang</td>\n",
       "      <td>0.052457</td>\n",
       "    </tr>\n",
       "    <tr>\n",
       "      <th>10</th>\n",
       "      <td>sex</td>\n",
       "      <td>0.033204</td>\n",
       "    </tr>\n",
       "    <tr>\n",
       "      <th>11</th>\n",
       "      <td>restecg</td>\n",
       "      <td>0.021113</td>\n",
       "    </tr>\n",
       "    <tr>\n",
       "      <th>12</th>\n",
       "      <td>fbs</td>\n",
       "      <td>0.013836</td>\n",
       "    </tr>\n",
       "  </tbody>\n",
       "</table>\n",
       "</div>"
      ],
      "text/plain": [
       "       input        IG\n",
       "0         cp  0.190503\n",
       "1    thalach  0.155793\n",
       "2       thal  0.104839\n",
       "3    oldpeak  0.092591\n",
       "4         ca  0.076090\n",
       "5        age  0.071090\n",
       "6   trestbps  0.067548\n",
       "7      slope  0.062051\n",
       "8       chol  0.058885\n",
       "9      exang  0.052457\n",
       "10       sex  0.033204\n",
       "11   restecg  0.021113\n",
       "12       fbs  0.013836"
      ]
     },
     "execution_count": 53,
     "metadata": {},
     "output_type": "execute_result"
    }
   ],
   "source": [
    "#check information gain :\n",
    "dict={\"input\":X.columns,\"IG\":rfc.feature_importances_}\n",
    "#convert dict to dataframe\n",
    "df1=pd.DataFrame(dict)\n",
    "#sorting in desending order\n",
    "#change record no as per sorting\n",
    "df1.sort_values('IG',ascending=False,ignore_index=True)"
   ]
  },
  {
   "cell_type": "raw",
   "id": "eaec5443",
   "metadata": {},
   "source": [
    "#apply Pruning Technique:max_depth :\n",
    "for i in range(1,9): #start=1 stop=9-1=8 step=+1\n",
    "    rfc1=RandomForestClassifier(n_estimators=25,random_state=1,max_depth=i) #bydefault gini\n",
    "    print(\"max depth : \",i)\n",
    "    #call function \n",
    "    rfc1=create_model(rfc1)"
   ]
  },
  {
   "cell_type": "code",
   "execution_count": 55,
   "id": "40362d8b",
   "metadata": {},
   "outputs": [
    {
     "name": "stdout",
     "output_type": "stream",
     "text": [
      "              precision    recall  f1-score   support\n",
      "\n",
      "           0       0.74      0.76      0.75        38\n",
      "           1       0.83      0.81      0.82        53\n",
      "\n",
      "    accuracy                           0.79        91\n",
      "   macro avg       0.79      0.79      0.79        91\n",
      "weighted avg       0.79      0.79      0.79        91\n",
      "\n",
      "[[29  9]\n",
      " [10 43]]\n"
     ]
    }
   ],
   "source": [
    "rfc1=RandomForestClassifier(n_estimators=25,random_state=1,max_depth=2) #bydefault gini\n",
    "#call function \n",
    "rfc1=create_model(rfc1)\n",
    "#here recall is 81%"
   ]
  },
  {
   "cell_type": "raw",
   "id": "624337cb",
   "metadata": {},
   "source": [
    "#apply second pruning tech \n",
    "#min sample leaf\n",
    "for i in range(45,101,1):\n",
    "    \n",
    "    rfc2=RandomForestClassifier(n_estimators=25,random_state=1,min_samples_leaf=i) \n",
    "\n",
    "    #by default gini index\n",
    "    print(\"min samples leaf: \",i)\n",
    "    #call fn\n",
    "    rfc2=create_model(rfc2)\n",
    "    #"
   ]
  },
  {
   "cell_type": "code",
   "execution_count": 57,
   "id": "2b53f87c",
   "metadata": {},
   "outputs": [
    {
     "name": "stdout",
     "output_type": "stream",
     "text": [
      "              precision    recall  f1-score   support\n",
      "\n",
      "           0       0.72      0.76      0.74        38\n",
      "           1       0.82      0.79      0.81        53\n",
      "\n",
      "    accuracy                           0.78        91\n",
      "   macro avg       0.77      0.78      0.78        91\n",
      "weighted avg       0.78      0.78      0.78        91\n",
      "\n",
      "[[29  9]\n",
      " [11 42]]\n"
     ]
    }
   ],
   "source": [
    "rfc2=RandomForestClassifier(n_estimators=25,random_state=1,min_samples_leaf=45) \n",
    "\n",
    "#call fn\n",
    "rfc2=create_model(rfc2)\n",
    "#here recall is 79%"
   ]
  },
  {
   "cell_type": "code",
   "execution_count": 58,
   "id": "5ea8e2ac",
   "metadata": {},
   "outputs": [
    {
     "data": {
      "text/html": [
       "<div>\n",
       "<style scoped>\n",
       "    .dataframe tbody tr th:only-of-type {\n",
       "        vertical-align: middle;\n",
       "    }\n",
       "\n",
       "    .dataframe tbody tr th {\n",
       "        vertical-align: top;\n",
       "    }\n",
       "\n",
       "    .dataframe thead th {\n",
       "        text-align: right;\n",
       "    }\n",
       "</style>\n",
       "<table border=\"1\" class=\"dataframe\">\n",
       "  <thead>\n",
       "    <tr style=\"text-align: right;\">\n",
       "      <th></th>\n",
       "      <th>input</th>\n",
       "      <th>IG</th>\n",
       "    </tr>\n",
       "  </thead>\n",
       "  <tbody>\n",
       "    <tr>\n",
       "      <th>0</th>\n",
       "      <td>thal</td>\n",
       "      <td>0.278374</td>\n",
       "    </tr>\n",
       "    <tr>\n",
       "      <th>1</th>\n",
       "      <td>cp</td>\n",
       "      <td>0.240000</td>\n",
       "    </tr>\n",
       "    <tr>\n",
       "      <th>2</th>\n",
       "      <td>thalach</td>\n",
       "      <td>0.160000</td>\n",
       "    </tr>\n",
       "    <tr>\n",
       "      <th>3</th>\n",
       "      <td>slope</td>\n",
       "      <td>0.160000</td>\n",
       "    </tr>\n",
       "    <tr>\n",
       "      <th>4</th>\n",
       "      <td>age</td>\n",
       "      <td>0.040000</td>\n",
       "    </tr>\n",
       "    <tr>\n",
       "      <th>5</th>\n",
       "      <td>chol</td>\n",
       "      <td>0.040000</td>\n",
       "    </tr>\n",
       "    <tr>\n",
       "      <th>6</th>\n",
       "      <td>oldpeak</td>\n",
       "      <td>0.040000</td>\n",
       "    </tr>\n",
       "    <tr>\n",
       "      <th>7</th>\n",
       "      <td>ca</td>\n",
       "      <td>0.040000</td>\n",
       "    </tr>\n",
       "    <tr>\n",
       "      <th>8</th>\n",
       "      <td>restecg</td>\n",
       "      <td>0.001626</td>\n",
       "    </tr>\n",
       "    <tr>\n",
       "      <th>9</th>\n",
       "      <td>sex</td>\n",
       "      <td>0.000000</td>\n",
       "    </tr>\n",
       "    <tr>\n",
       "      <th>10</th>\n",
       "      <td>trestbps</td>\n",
       "      <td>0.000000</td>\n",
       "    </tr>\n",
       "    <tr>\n",
       "      <th>11</th>\n",
       "      <td>fbs</td>\n",
       "      <td>0.000000</td>\n",
       "    </tr>\n",
       "    <tr>\n",
       "      <th>12</th>\n",
       "      <td>exang</td>\n",
       "      <td>0.000000</td>\n",
       "    </tr>\n",
       "  </tbody>\n",
       "</table>\n",
       "</div>"
      ],
      "text/plain": [
       "       input        IG\n",
       "0       thal  0.278374\n",
       "1         cp  0.240000\n",
       "2    thalach  0.160000\n",
       "3      slope  0.160000\n",
       "4        age  0.040000\n",
       "5       chol  0.040000\n",
       "6    oldpeak  0.040000\n",
       "7         ca  0.040000\n",
       "8    restecg  0.001626\n",
       "9        sex  0.000000\n",
       "10  trestbps  0.000000\n",
       "11       fbs  0.000000\n",
       "12     exang  0.000000"
      ]
     },
     "execution_count": 58,
     "metadata": {},
     "output_type": "execute_result"
    }
   ],
   "source": [
    "#check information gain :\n",
    "dict={\"input\":X.columns,\"IG\":rfc2.feature_importances_}\n",
    "#convert dict to dataframe\n",
    "df2=pd.DataFrame(dict)\n",
    "#sorting in desending order\n",
    "#change record no as per sorting\n",
    "df2.sort_values('IG',ascending=False,ignore_index=True)"
   ]
  },
  {
   "cell_type": "code",
   "execution_count": 59,
   "id": "0221b243",
   "metadata": {},
   "outputs": [],
   "source": [
    "#apply boosting technique\n",
    "#first apply ADA boost\n",
    "from sklearn.ensemble import AdaBoostClassifier"
   ]
  },
  {
   "cell_type": "code",
   "execution_count": 60,
   "id": "c28e9216",
   "metadata": {},
   "outputs": [
    {
     "data": {
      "text/plain": [
       "(302, 13)"
      ]
     },
     "execution_count": 60,
     "metadata": {},
     "output_type": "execute_result"
    }
   ],
   "source": [
    "X.shape"
   ]
  },
  {
   "cell_type": "raw",
   "id": "3c00efc6",
   "metadata": {},
   "source": [
    "#check how many feature imp\n",
    "for i in range (1,11):\n",
    "    #create object of AdaBoostClassifier\n",
    "    ada=AdaBoostClassifier(random_state=1,n_estimators=i)\n",
    "    print(\"no of decision stump \",i)\n",
    "    #call fn\n",
    "    ada=create_model(ada)\n",
    "    \n",
    "#here n_estimators = no of decision stump"
   ]
  },
  {
   "cell_type": "code",
   "execution_count": 62,
   "id": "90b21d73",
   "metadata": {},
   "outputs": [
    {
     "name": "stdout",
     "output_type": "stream",
     "text": [
      "              precision    recall  f1-score   support\n",
      "\n",
      "           0       0.73      0.71      0.72        38\n",
      "           1       0.80      0.81      0.80        53\n",
      "\n",
      "    accuracy                           0.77        91\n",
      "   macro avg       0.76      0.76      0.76        91\n",
      "weighted avg       0.77      0.77      0.77        91\n",
      "\n",
      "[[27 11]\n",
      " [10 43]]\n"
     ]
    }
   ],
   "source": [
    "#create object of AdaBoostClassifier\n",
    "ada=AdaBoostClassifier(random_state=1,n_estimators=6)\n",
    "#call fn\n",
    "ada=create_model(ada)\n",
    "#here recall is 81%\n",
    "#hence outoff 13 features 6 features are imp"
   ]
  },
  {
   "cell_type": "code",
   "execution_count": 63,
   "id": "f55824c8",
   "metadata": {},
   "outputs": [
    {
     "data": {
      "text/html": [
       "<div>\n",
       "<style scoped>\n",
       "    .dataframe tbody tr th:only-of-type {\n",
       "        vertical-align: middle;\n",
       "    }\n",
       "\n",
       "    .dataframe tbody tr th {\n",
       "        vertical-align: top;\n",
       "    }\n",
       "\n",
       "    .dataframe thead th {\n",
       "        text-align: right;\n",
       "    }\n",
       "</style>\n",
       "<table border=\"1\" class=\"dataframe\">\n",
       "  <thead>\n",
       "    <tr style=\"text-align: right;\">\n",
       "      <th></th>\n",
       "      <th>input</th>\n",
       "      <th>IG</th>\n",
       "    </tr>\n",
       "  </thead>\n",
       "  <tbody>\n",
       "    <tr>\n",
       "      <th>0</th>\n",
       "      <td>sex</td>\n",
       "      <td>0.166667</td>\n",
       "    </tr>\n",
       "    <tr>\n",
       "      <th>1</th>\n",
       "      <td>cp</td>\n",
       "      <td>0.166667</td>\n",
       "    </tr>\n",
       "    <tr>\n",
       "      <th>2</th>\n",
       "      <td>thalach</td>\n",
       "      <td>0.166667</td>\n",
       "    </tr>\n",
       "    <tr>\n",
       "      <th>3</th>\n",
       "      <td>oldpeak</td>\n",
       "      <td>0.166667</td>\n",
       "    </tr>\n",
       "    <tr>\n",
       "      <th>4</th>\n",
       "      <td>slope</td>\n",
       "      <td>0.166667</td>\n",
       "    </tr>\n",
       "    <tr>\n",
       "      <th>5</th>\n",
       "      <td>ca</td>\n",
       "      <td>0.166667</td>\n",
       "    </tr>\n",
       "    <tr>\n",
       "      <th>6</th>\n",
       "      <td>age</td>\n",
       "      <td>0.000000</td>\n",
       "    </tr>\n",
       "    <tr>\n",
       "      <th>7</th>\n",
       "      <td>trestbps</td>\n",
       "      <td>0.000000</td>\n",
       "    </tr>\n",
       "    <tr>\n",
       "      <th>8</th>\n",
       "      <td>chol</td>\n",
       "      <td>0.000000</td>\n",
       "    </tr>\n",
       "    <tr>\n",
       "      <th>9</th>\n",
       "      <td>fbs</td>\n",
       "      <td>0.000000</td>\n",
       "    </tr>\n",
       "    <tr>\n",
       "      <th>10</th>\n",
       "      <td>restecg</td>\n",
       "      <td>0.000000</td>\n",
       "    </tr>\n",
       "    <tr>\n",
       "      <th>11</th>\n",
       "      <td>exang</td>\n",
       "      <td>0.000000</td>\n",
       "    </tr>\n",
       "    <tr>\n",
       "      <th>12</th>\n",
       "      <td>thal</td>\n",
       "      <td>0.000000</td>\n",
       "    </tr>\n",
       "  </tbody>\n",
       "</table>\n",
       "</div>"
      ],
      "text/plain": [
       "       input        IG\n",
       "0        sex  0.166667\n",
       "1         cp  0.166667\n",
       "2    thalach  0.166667\n",
       "3    oldpeak  0.166667\n",
       "4      slope  0.166667\n",
       "5         ca  0.166667\n",
       "6        age  0.000000\n",
       "7   trestbps  0.000000\n",
       "8       chol  0.000000\n",
       "9        fbs  0.000000\n",
       "10   restecg  0.000000\n",
       "11     exang  0.000000\n",
       "12      thal  0.000000"
      ]
     },
     "execution_count": 63,
     "metadata": {},
     "output_type": "execute_result"
    }
   ],
   "source": [
    "#check imp features\n",
    "#check information gain :\n",
    "dict={\"input\":X.columns,\"IG\":ada.feature_importances_}\n",
    "#convert dict to dataframe\n",
    "df1=pd.DataFrame(dict)\n",
    "#sorting in desending order\n",
    "#change record no as per sorting\n",
    "df1.sort_values('IG',ascending=False,ignore_index=True)"
   ]
  },
  {
   "cell_type": "code",
   "execution_count": 64,
   "id": "af73712a",
   "metadata": {},
   "outputs": [],
   "source": [
    "#apply second boosting tech gradient boost\n",
    "from sklearn.ensemble import GradientBoostingClassifier"
   ]
  },
  {
   "cell_type": "raw",
   "id": "c219e6fc",
   "metadata": {},
   "source": [
    "#create object of GradientBoostingClassifier class\n",
    "#and passing parameter means how many iteration means how many \n",
    "#decisiontree use to train the model\n",
    "#n_estimator >=10 and <=100\n",
    "for i in range (10,101):\n",
    "    #create object of GradientBoostingClassifier class\n",
    "    gbc=GradientBoostingClassifier(random_state=1,n_estimators=i)\n",
    "    print(\"no of estimators \",i)\n",
    "    #call fn\n",
    "    gbc=create_model(gbc)"
   ]
  },
  {
   "cell_type": "code",
   "execution_count": 66,
   "id": "add4fad6",
   "metadata": {},
   "outputs": [
    {
     "name": "stdout",
     "output_type": "stream",
     "text": [
      "              precision    recall  f1-score   support\n",
      "\n",
      "           0       0.74      0.74      0.74        38\n",
      "           1       0.81      0.81      0.81        53\n",
      "\n",
      "    accuracy                           0.78        91\n",
      "   macro avg       0.77      0.77      0.77        91\n",
      "weighted avg       0.78      0.78      0.78        91\n",
      "\n",
      "[[28 10]\n",
      " [10 43]]\n"
     ]
    }
   ],
   "source": [
    "#create object of GradientBoostingClassifier class\n",
    "gbc=GradientBoostingClassifier(random_state=1,n_estimators=11)\n",
    "#call fn\n",
    "gbc=create_model(gbc)\n",
    "#here recall is 81% \n",
    "#and n_estimator=11\n",
    "#after 11 iteration shows imp feature"
   ]
  },
  {
   "cell_type": "code",
   "execution_count": 67,
   "id": "a7b58aa2",
   "metadata": {},
   "outputs": [
    {
     "data": {
      "text/html": [
       "<div>\n",
       "<style scoped>\n",
       "    .dataframe tbody tr th:only-of-type {\n",
       "        vertical-align: middle;\n",
       "    }\n",
       "\n",
       "    .dataframe tbody tr th {\n",
       "        vertical-align: top;\n",
       "    }\n",
       "\n",
       "    .dataframe thead th {\n",
       "        text-align: right;\n",
       "    }\n",
       "</style>\n",
       "<table border=\"1\" class=\"dataframe\">\n",
       "  <thead>\n",
       "    <tr style=\"text-align: right;\">\n",
       "      <th></th>\n",
       "      <th>input</th>\n",
       "      <th>IG</th>\n",
       "    </tr>\n",
       "  </thead>\n",
       "  <tbody>\n",
       "    <tr>\n",
       "      <th>0</th>\n",
       "      <td>cp</td>\n",
       "      <td>0.428971</td>\n",
       "    </tr>\n",
       "    <tr>\n",
       "      <th>1</th>\n",
       "      <td>ca</td>\n",
       "      <td>0.151844</td>\n",
       "    </tr>\n",
       "    <tr>\n",
       "      <th>2</th>\n",
       "      <td>thalach</td>\n",
       "      <td>0.085778</td>\n",
       "    </tr>\n",
       "    <tr>\n",
       "      <th>3</th>\n",
       "      <td>exang</td>\n",
       "      <td>0.077987</td>\n",
       "    </tr>\n",
       "    <tr>\n",
       "      <th>4</th>\n",
       "      <td>thal</td>\n",
       "      <td>0.065412</td>\n",
       "    </tr>\n",
       "    <tr>\n",
       "      <th>5</th>\n",
       "      <td>oldpeak</td>\n",
       "      <td>0.064054</td>\n",
       "    </tr>\n",
       "    <tr>\n",
       "      <th>6</th>\n",
       "      <td>sex</td>\n",
       "      <td>0.042441</td>\n",
       "    </tr>\n",
       "    <tr>\n",
       "      <th>7</th>\n",
       "      <td>age</td>\n",
       "      <td>0.030353</td>\n",
       "    </tr>\n",
       "    <tr>\n",
       "      <th>8</th>\n",
       "      <td>trestbps</td>\n",
       "      <td>0.020001</td>\n",
       "    </tr>\n",
       "    <tr>\n",
       "      <th>9</th>\n",
       "      <td>slope</td>\n",
       "      <td>0.019248</td>\n",
       "    </tr>\n",
       "    <tr>\n",
       "      <th>10</th>\n",
       "      <td>chol</td>\n",
       "      <td>0.013910</td>\n",
       "    </tr>\n",
       "    <tr>\n",
       "      <th>11</th>\n",
       "      <td>fbs</td>\n",
       "      <td>0.000000</td>\n",
       "    </tr>\n",
       "    <tr>\n",
       "      <th>12</th>\n",
       "      <td>restecg</td>\n",
       "      <td>0.000000</td>\n",
       "    </tr>\n",
       "  </tbody>\n",
       "</table>\n",
       "</div>"
      ],
      "text/plain": [
       "       input        IG\n",
       "0         cp  0.428971\n",
       "1         ca  0.151844\n",
       "2    thalach  0.085778\n",
       "3      exang  0.077987\n",
       "4       thal  0.065412\n",
       "5    oldpeak  0.064054\n",
       "6        sex  0.042441\n",
       "7        age  0.030353\n",
       "8   trestbps  0.020001\n",
       "9      slope  0.019248\n",
       "10      chol  0.013910\n",
       "11       fbs  0.000000\n",
       "12   restecg  0.000000"
      ]
     },
     "execution_count": 67,
     "metadata": {},
     "output_type": "execute_result"
    }
   ],
   "source": [
    "#check imp features\n",
    "#check information gain :\n",
    "dict={\"input\":X.columns,\"IG\":gbc.feature_importances_}\n",
    "#convert dict to dataframe\n",
    "df2=pd.DataFrame(dict)\n",
    "#sorting in desending order\n",
    "#change record no as per sorting\n",
    "df2.sort_values('IG',ascending=False,ignore_index=True)"
   ]
  },
  {
   "cell_type": "code",
   "execution_count": 68,
   "id": "0efaca0a",
   "metadata": {},
   "outputs": [
    {
     "name": "stdout",
     "output_type": "stream",
     "text": [
      "Requirement already satisfied: xgboost in /opt/anaconda3/lib/python3.9/site-packages (1.5.1)\n",
      "Requirement already satisfied: numpy in /opt/anaconda3/lib/python3.9/site-packages (from xgboost) (1.20.3)\n",
      "Requirement already satisfied: scipy in /opt/anaconda3/lib/python3.9/site-packages (from xgboost) (1.7.1)\n"
     ]
    }
   ],
   "source": [
    "#apply extreme gradient boost tech\n",
    "!pip install xgboost"
   ]
  },
  {
   "cell_type": "code",
   "execution_count": 69,
   "id": "b8ecd018",
   "metadata": {},
   "outputs": [],
   "source": [
    "from xgboost import XGBClassifier\n",
    "#create object of XGBClassifier\n",
    "#n_estimator >=10 and <=100\n",
    "#reg_alpha=1 here 1 means doing task to t=remove outlier and overfitting\n",
    "#reg means regularisation and alpha means Lambda means hyperparameter\n",
    "#if reg_alpha=1 , 1 means True means automatic handle outlier and overfitting"
   ]
  },
  {
   "cell_type": "raw",
   "id": "6b1253f9",
   "metadata": {},
   "source": [
    "for i in range (10,101):\n",
    "    #create object of GradientBoostingClassifier class\n",
    "    xgc=XGBClassifier(random_state=1,n_estimators=i,reg_alpha=1)\n",
    "    print(\"no of estimators \",i)\n",
    "    #call fn\n",
    "    xgc=create_model(xgc)"
   ]
  },
  {
   "cell_type": "code",
   "execution_count": 71,
   "id": "e189308e",
   "metadata": {},
   "outputs": [
    {
     "name": "stdout",
     "output_type": "stream",
     "text": [
      "[18:49:22] WARNING: /Users/runner/miniforge3/conda-bld/xgboost-split_1645117948562/work/src/learner.cc:1115: Starting in XGBoost 1.3.0, the default evaluation metric used with the objective 'binary:logistic' was changed from 'error' to 'logloss'. Explicitly set eval_metric if you'd like to restore the old behavior.\n",
      "              precision    recall  f1-score   support\n",
      "\n",
      "           0       0.70      0.74      0.72        38\n",
      "           1       0.80      0.77      0.79        53\n",
      "\n",
      "    accuracy                           0.76        91\n",
      "   macro avg       0.75      0.76      0.75        91\n",
      "weighted avg       0.76      0.76      0.76        91\n",
      "\n",
      "[[28 10]\n",
      " [12 41]]\n"
     ]
    }
   ],
   "source": [
    "#create object of GradientBoostingClassifier class\n",
    "xgc=XGBClassifier(random_state=1,n_estimators=18,reg_alpha=1)\n",
    "#call fn\n",
    "xgc=create_model(xgc)\n",
    "#here recall is 77%"
   ]
  },
  {
   "cell_type": "code",
   "execution_count": 72,
   "id": "65b6309f",
   "metadata": {},
   "outputs": [
    {
     "data": {
      "text/html": [
       "<div>\n",
       "<style scoped>\n",
       "    .dataframe tbody tr th:only-of-type {\n",
       "        vertical-align: middle;\n",
       "    }\n",
       "\n",
       "    .dataframe tbody tr th {\n",
       "        vertical-align: top;\n",
       "    }\n",
       "\n",
       "    .dataframe thead th {\n",
       "        text-align: right;\n",
       "    }\n",
       "</style>\n",
       "<table border=\"1\" class=\"dataframe\">\n",
       "  <thead>\n",
       "    <tr style=\"text-align: right;\">\n",
       "      <th></th>\n",
       "      <th>input</th>\n",
       "      <th>IG</th>\n",
       "    </tr>\n",
       "  </thead>\n",
       "  <tbody>\n",
       "    <tr>\n",
       "      <th>0</th>\n",
       "      <td>cp</td>\n",
       "      <td>0.467691</td>\n",
       "    </tr>\n",
       "    <tr>\n",
       "      <th>1</th>\n",
       "      <td>ca</td>\n",
       "      <td>0.106446</td>\n",
       "    </tr>\n",
       "    <tr>\n",
       "      <th>2</th>\n",
       "      <td>exang</td>\n",
       "      <td>0.102489</td>\n",
       "    </tr>\n",
       "    <tr>\n",
       "      <th>3</th>\n",
       "      <td>thal</td>\n",
       "      <td>0.077569</td>\n",
       "    </tr>\n",
       "    <tr>\n",
       "      <th>4</th>\n",
       "      <td>oldpeak</td>\n",
       "      <td>0.055634</td>\n",
       "    </tr>\n",
       "    <tr>\n",
       "      <th>5</th>\n",
       "      <td>slope</td>\n",
       "      <td>0.044020</td>\n",
       "    </tr>\n",
       "    <tr>\n",
       "      <th>6</th>\n",
       "      <td>thalach</td>\n",
       "      <td>0.040281</td>\n",
       "    </tr>\n",
       "    <tr>\n",
       "      <th>7</th>\n",
       "      <td>sex</td>\n",
       "      <td>0.030380</td>\n",
       "    </tr>\n",
       "    <tr>\n",
       "      <th>8</th>\n",
       "      <td>trestbps</td>\n",
       "      <td>0.022648</td>\n",
       "    </tr>\n",
       "    <tr>\n",
       "      <th>9</th>\n",
       "      <td>age</td>\n",
       "      <td>0.020163</td>\n",
       "    </tr>\n",
       "    <tr>\n",
       "      <th>10</th>\n",
       "      <td>chol</td>\n",
       "      <td>0.016919</td>\n",
       "    </tr>\n",
       "    <tr>\n",
       "      <th>11</th>\n",
       "      <td>restecg</td>\n",
       "      <td>0.015758</td>\n",
       "    </tr>\n",
       "    <tr>\n",
       "      <th>12</th>\n",
       "      <td>fbs</td>\n",
       "      <td>0.000000</td>\n",
       "    </tr>\n",
       "  </tbody>\n",
       "</table>\n",
       "</div>"
      ],
      "text/plain": [
       "       input        IG\n",
       "0         cp  0.467691\n",
       "1         ca  0.106446\n",
       "2      exang  0.102489\n",
       "3       thal  0.077569\n",
       "4    oldpeak  0.055634\n",
       "5      slope  0.044020\n",
       "6    thalach  0.040281\n",
       "7        sex  0.030380\n",
       "8   trestbps  0.022648\n",
       "9        age  0.020163\n",
       "10      chol  0.016919\n",
       "11   restecg  0.015758\n",
       "12       fbs  0.000000"
      ]
     },
     "execution_count": 72,
     "metadata": {},
     "output_type": "execute_result"
    }
   ],
   "source": [
    "#check imp features\n",
    "#check information gain :\n",
    "dict={\"input\":X.columns,\"IG\":xgc.feature_importances_}\n",
    "#convert dict to dataframe\n",
    "df3=pd.DataFrame(dict)\n",
    "#sorting in desending order\n",
    "#change record no as per sorting\n",
    "df3.sort_values('IG',ascending=False,ignore_index=True)"
   ]
  },
  {
   "cell_type": "code",
   "execution_count": null,
   "id": "fc23b8b0",
   "metadata": {},
   "outputs": [],
   "source": [
    "#give data to support vector machine\n",
    "#1.Linear kernal function of support vector machine \n",
    "#means suppose data are linear separatable with the help of straight line\n",
    "#call inbuild claass for Linear SVM :linear SVC\n",
    "#SVC means support vector classifier\n",
    "#data give to linear"
   ]
  },
  {
   "cell_type": "code",
   "execution_count": 73,
   "id": "8500e2fc",
   "metadata": {},
   "outputs": [],
   "source": [
    "from sklearn.svm import LinearSVC"
   ]
  },
  {
   "cell_type": "code",
   "execution_count": 74,
   "id": "26474f12",
   "metadata": {},
   "outputs": [],
   "source": [
    "#create obhect of LinearSVC class\n",
    "#here no add error\n",
    "svc=LinearSVC(random_state=1)"
   ]
  },
  {
   "cell_type": "code",
   "execution_count": 75,
   "id": "fadd013c",
   "metadata": {},
   "outputs": [
    {
     "name": "stdout",
     "output_type": "stream",
     "text": [
      "              precision    recall  f1-score   support\n",
      "\n",
      "           0       0.76      0.76      0.76        38\n",
      "           1       0.83      0.83      0.83        53\n",
      "\n",
      "    accuracy                           0.80        91\n",
      "   macro avg       0.80      0.80      0.80        91\n",
      "weighted avg       0.80      0.80      0.80        91\n",
      "\n",
      "[[29  9]\n",
      " [ 9 44]]\n"
     ]
    }
   ],
   "source": [
    "#call fn\n",
    "svc=create_model(svc)\n",
    "#here recall is 83%"
   ]
  },
  {
   "cell_type": "code",
   "execution_count": 82,
   "id": "6dfc49ba",
   "metadata": {},
   "outputs": [],
   "source": [
    "#add error while runtime\n",
    "##C means error parameter ,the value of C can be <=1\n",
    "svc1=LinearSVC(random_state=1,C=0.09)\n",
    "#hence recall not change after ading error so my data set is non-linear"
   ]
  },
  {
   "cell_type": "code",
   "execution_count": 81,
   "id": "163b54e6",
   "metadata": {},
   "outputs": [
    {
     "name": "stdout",
     "output_type": "stream",
     "text": [
      "              precision    recall  f1-score   support\n",
      "\n",
      "           0       0.78      0.74      0.76        38\n",
      "           1       0.82      0.85      0.83        53\n",
      "\n",
      "    accuracy                           0.80        91\n",
      "   macro avg       0.80      0.79      0.80        91\n",
      "weighted avg       0.80      0.80      0.80        91\n",
      "\n",
      "[[28 10]\n",
      " [ 8 45]]\n"
     ]
    }
   ],
   "source": [
    "#call fn\n",
    "svc1=create_model(svc1)\n",
    "#here recall is 85%"
   ]
  },
  {
   "cell_type": "code",
   "execution_count": null,
   "id": "80f5a9df",
   "metadata": {},
   "outputs": [],
   "source": [
    "#there are two types of algorithm for non-linear data\n",
    "#1-polynomial kernal fn\n",
    "#2-radial basis kernal fn"
   ]
  },
  {
   "cell_type": "code",
   "execution_count": 83,
   "id": "e100dc7d",
   "metadata": {},
   "outputs": [],
   "source": [
    "#1st is polynomial kernal fn\n",
    "from sklearn.svm import SVC #use poly"
   ]
  },
  {
   "cell_type": "code",
   "execution_count": 84,
   "id": "0a491c5b",
   "metadata": {},
   "outputs": [],
   "source": [
    "#create object of svc\n",
    "poly_svc=SVC(random_state=1,kernel='poly')"
   ]
  },
  {
   "cell_type": "code",
   "execution_count": 85,
   "id": "d6785a3a",
   "metadata": {},
   "outputs": [
    {
     "name": "stdout",
     "output_type": "stream",
     "text": [
      "              precision    recall  f1-score   support\n",
      "\n",
      "           0       0.81      0.76      0.78        38\n",
      "           1       0.84      0.87      0.85        53\n",
      "\n",
      "    accuracy                           0.82        91\n",
      "   macro avg       0.82      0.82      0.82        91\n",
      "weighted avg       0.82      0.82      0.82        91\n",
      "\n",
      "[[29  9]\n",
      " [ 7 46]]\n"
     ]
    }
   ],
   "source": [
    "#call fn\n",
    "poly_svc=create_model(poly_svc)\n",
    "#here recall is 87% no change"
   ]
  },
  {
   "cell_type": "code",
   "execution_count": null,
   "id": "1e7f0d52",
   "metadata": {},
   "outputs": [],
   "source": [
    "#give to radial kernel"
   ]
  },
  {
   "cell_type": "code",
   "execution_count": 86,
   "id": "9d613f7a",
   "metadata": {},
   "outputs": [],
   "source": [
    "#create object \n",
    "r_svc=SVC(random_state=1,kernel='rbf')"
   ]
  },
  {
   "cell_type": "code",
   "execution_count": 87,
   "id": "a2650078",
   "metadata": {},
   "outputs": [
    {
     "name": "stdout",
     "output_type": "stream",
     "text": [
      "              precision    recall  f1-score   support\n",
      "\n",
      "           0       0.72      0.74      0.73        38\n",
      "           1       0.81      0.79      0.80        53\n",
      "\n",
      "    accuracy                           0.77        91\n",
      "   macro avg       0.76      0.76      0.76        91\n",
      "weighted avg       0.77      0.77      0.77        91\n",
      "\n",
      "[[28 10]\n",
      " [11 42]]\n"
     ]
    }
   ],
   "source": [
    "#call fn\n",
    "r_svc=create_model(r_svc)\n",
    "#here recall is 79% which is good"
   ]
  },
  {
   "cell_type": "code",
   "execution_count": null,
   "id": "ee488de4",
   "metadata": {},
   "outputs": [],
   "source": [
    "#linear recall is 83\n",
    "#polynomial recall is 87\n",
    "#radial recall is 79"
   ]
  },
  {
   "cell_type": "code",
   "execution_count": 88,
   "id": "c14c8953",
   "metadata": {},
   "outputs": [],
   "source": [
    "#apply KNN algorithm :inbuild class KneighborsClassifier which define in\n",
    "from sklearn.neighbors import KNeighborsClassifier"
   ]
  },
  {
   "cell_type": "code",
   "execution_count": 89,
   "id": "299aa792",
   "metadata": {},
   "outputs": [],
   "source": [
    "#create object of KNeighborsClassifier class\n",
    "#standard n_neighbors=5\n",
    "#p=2 means Euclidean distance method\n",
    "knc=KNeighborsClassifier(n_neighbors=5,metric='minkowski',p=2)"
   ]
  },
  {
   "cell_type": "code",
   "execution_count": 90,
   "id": "2804bbf7",
   "metadata": {},
   "outputs": [
    {
     "name": "stdout",
     "output_type": "stream",
     "text": [
      "              precision    recall  f1-score   support\n",
      "\n",
      "           0       0.75      0.79      0.77        38\n",
      "           1       0.84      0.81      0.83        53\n",
      "\n",
      "    accuracy                           0.80        91\n",
      "   macro avg       0.80      0.80      0.80        91\n",
      "weighted avg       0.80      0.80      0.80        91\n",
      "\n",
      "[[30  8]\n",
      " [10 43]]\n"
     ]
    }
   ],
   "source": [
    "#call fn\n",
    "knc=create_model(knc)\n",
    "#recall is 81%"
   ]
  },
  {
   "cell_type": "raw",
   "id": "e4e6b543",
   "metadata": {},
   "source": [
    "#conclusion\n",
    "LogisticRegression recall is 83%\n",
    "\n",
    "DecsionTreeClassifier(Gini) recall is 70%\n",
    "DecsionTreeClassifier(Gini),max depth recall is 75%\n",
    "DecsionTreeClassifier(Gini),min samples leaf recall is 72%\n",
    "\n",
    "DecsionTreeClassifier(Entropy) recall is 70%\n",
    "DecsionTreeClassifier(Entropy),max depth recall is 75%\n",
    "DecsionTreeClassifier(Entropy),min samples leaf recall is 72%\n",
    "\n",
    "RandomForestClassifier recall is 77%\n",
    "RandomForestClassifier(max depth) recall is 81%\n",
    "RandomForestClassifier(min samples leaf )recall is 77%\n",
    "\n",
    "AdaBoostClassifier recall is 83%\n",
    "GradientBoostingClassifier recall is 81%\n",
    "XGBClassifier recall is 77%\n",
    "\n",
    "LinearSVC recall is 83%\n",
    "poly_svc recall is 87%\n",
    "radial_svc recall is 79%\n",
    "\n",
    "KNeighborsClassifier recall is 81%\n",
    "\n",
    "overall all technique poly_svc, recall is 87% is best because has 7 recall 9 precsion"
   ]
  }
 ],
 "metadata": {
  "kernelspec": {
   "display_name": "Python 3 (ipykernel)",
   "language": "python",
   "name": "python3"
  },
  "language_info": {
   "codemirror_mode": {
    "name": "ipython",
    "version": 3
   },
   "file_extension": ".py",
   "mimetype": "text/x-python",
   "name": "python",
   "nbconvert_exporter": "python",
   "pygments_lexer": "ipython3",
   "version": "3.9.13"
  }
 },
 "nbformat": 4,
 "nbformat_minor": 5
}
